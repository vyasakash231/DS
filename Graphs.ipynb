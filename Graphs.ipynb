{
 "cells": [
  {
   "attachments": {},
   "cell_type": "markdown",
   "metadata": {},
   "source": [
    "## Graph"
   ]
  },
  {
   "cell_type": "code",
   "execution_count": null,
   "metadata": {},
   "outputs": [],
   "source": [
    "class Graph_1:\n",
    "    def __init__(self,edges_list,direction):\n",
    "        # direction = 0 --> directed \n",
    "        # direction = 1 --> undirected (do not have a direction)\n",
    "\n",
    "        self.edges = edges_list\n",
    "        self.direct = direction\n",
    "        self.graph_dict = {}  # {key:value} Adjacency list\n",
    "\n",
    "        for start,end in self.edges:\n",
    "            if start in self.graph_dict:\n",
    "                self.graph_dict[start].append(end)  \n",
    "            else:\n",
    "                self.graph_dict[start] = [end]\n",
    "\n",
    "            if self.direct == 1:\n",
    "                if end in self.graph_dict:\n",
    "                    self.graph_dict[end].append(start)  \n",
    "                else:\n",
    "                    self.graph_dict[end] = [start]   \n",
    "        print(self.graph_dict)            "
   ]
  },
  {
   "cell_type": "code",
   "execution_count": null,
   "metadata": {},
   "outputs": [],
   "source": [
    "if __name__ == \"__main__\":\n",
    "    edges_list = [(0,1),(1,2),(2,3),(1,3),(3,4),(4,0)]\n",
    "    my_graph = Graph_1(edges_list,1)"
   ]
  },
  {
   "attachments": {},
   "cell_type": "markdown",
   "metadata": {},
   "source": [
    "### <p style=\"color:blue;\">Breadth first Search (BFS) Traversal technique for Undirected Graph (do not have a direction)"
   ]
  },
  {
   "cell_type": "code",
   "execution_count": null,
   "metadata": {},
   "outputs": [],
   "source": [
    "class Graph_2:\n",
    "    def __init__(self,edges_list):\n",
    "        self.edges = edges_list\n",
    "        self.graph_dict = {} # {key:value} Adjacency list\n",
    "\n",
    "        # Undirected Graph\n",
    "        for start,end in self.edges:\n",
    "            if start in self.graph_dict:\n",
    "                self.graph_dict[start].append(end)\n",
    "            if end in self.graph_dict:\n",
    "                self.graph_dict[end].append(start)\n",
    "            if start not in self.graph_dict:\n",
    "                self.graph_dict[start] = [end]\n",
    "            if end not in self.graph_dict:\n",
    "                self.graph_dict[end] = [start]\n",
    "        print(self.graph_dict) \n",
    "\n",
    "    def bfs(self,starting_node):\n",
    "        q = []\n",
    "        visited = [] # we can also initiate it as empty set(), to arrange elements in order\n",
    "        q.append(starting_node) \n",
    "        while len(q) > 0:\n",
    "            front_node = q.pop(0)\n",
    "            visited.append(front_node) # In case of set(), we have to use add(front_node)\n",
    "            for i in self.graph_dict[front_node]:\n",
    "                if i not in visited and i not in q:\n",
    "                    q.append(i)\n",
    "        return visited"
   ]
  },
  {
   "cell_type": "code",
   "execution_count": null,
   "metadata": {},
   "outputs": [],
   "source": [
    "if __name__ == \"__main__\":\n",
    "    edges_list = [(0,1),(0,2),(1,3),(2,3),(1,4),(3,4)]\n",
    "    my_graph = Graph_2(edges_list)\n",
    "    print(my_graph.bfs(0))"
   ]
  },
  {
   "attachments": {},
   "cell_type": "markdown",
   "metadata": {},
   "source": [
    "### <p style=\"color:blue;\">Breadth first Search (BFS) Traversal technique for Directed Graph "
   ]
  },
  {
   "cell_type": "code",
   "execution_count": null,
   "metadata": {},
   "outputs": [],
   "source": [
    "class Graph_3:\n",
    "    def __init__(self,edges_list):\n",
    "        self.edges = edges_list\n",
    "        self.graph_dict = {} # {key:value} Adjacency list\n",
    "\n",
    "        # Directed Graph\n",
    "        for start,end in self.edges:\n",
    "            if start in self.graph_dict:\n",
    "                self.graph_dict[start].append(end)\n",
    "            else:\n",
    "                self.graph_dict[start] = [end]\n",
    "        print(self.graph_dict) \n",
    "\n",
    "    def bfs(self,starting_node):\n",
    "        q = []\n",
    "        visited = [] # we can also initiate it as empty set(), to arrange elements in order\n",
    "        q.append(starting_node) \n",
    "        while len(q) > 0:\n",
    "            front_node = q.pop(0)\n",
    "            visited.append(front_node) # In case of set(), we have to use add(front_node)\n",
    "            if front_node in self.graph_dict: # condition to be checked for Directed Graph\n",
    "                for i in self.graph_dict[front_node]:\n",
    "                    if i not in visited and i not in q:\n",
    "                        q.append(i)\n",
    "        return visited"
   ]
  },
  {
   "cell_type": "code",
   "execution_count": null,
   "metadata": {},
   "outputs": [],
   "source": [
    "if __name__ == \"__main__\":\n",
    "    edges_list = [(0,1),(0,2),(1,3),(2,3),(1,4),(3,4)]\n",
    "    my_graph = Graph_3(edges_list)\n",
    "    print(my_graph.bfs(0))"
   ]
  },
  {
   "attachments": {},
   "cell_type": "markdown",
   "metadata": {},
   "source": [
    "### <p style=\"color:blue;\">Depth first Search (DFS) Traversal technique for Undirected Graph (do not have a direction)"
   ]
  },
  {
   "cell_type": "code",
   "execution_count": null,
   "metadata": {},
   "outputs": [],
   "source": [
    "class Graph_4:\n",
    "    def __init__(self,edges_list):\n",
    "        self.edges = edges_list\n",
    "        self.graph_dict = {} # {key:value} Adjacency list\n",
    "\n",
    "        # Undirected Graph\n",
    "        for start,end in self.edges:\n",
    "            if start in self.graph_dict:\n",
    "                self.graph_dict[start].append(end)\n",
    "            if end in self.graph_dict:\n",
    "                self.graph_dict[end].append(start)\n",
    "            if start not in self.graph_dict:\n",
    "                self.graph_dict[start] = [end]\n",
    "            if end not in self.graph_dict:\n",
    "                self.graph_dict[end] = [start]\n",
    "        print(self.graph_dict)\n",
    " \n",
    "    def dfs(self,starting_node,visited = []):\n",
    "        if starting_node not in visited:\n",
    "            visited.append(starting_node) # In case of set(), we have to use add(front_node)\n",
    "            for i in self.graph_dict[starting_node]:\n",
    "                self.dfs(i,visited) # Recursive relation\n",
    "        return visited"
   ]
  },
  {
   "cell_type": "code",
   "execution_count": null,
   "metadata": {},
   "outputs": [],
   "source": [
    "if __name__ == \"__main__\":\n",
    "    edges_list = [(0,1),(1,2),(2,3),(1,3),(3,4),(4,0)]\n",
    "    my_graph = Graph_4(edges_list)\n",
    "    print(my_graph.dfs(0))"
   ]
  },
  {
   "attachments": {},
   "cell_type": "markdown",
   "metadata": {},
   "source": [
    "### <p style=\"color:blue;\">Cycle detection\n",
    "##### <p style=\"color:red;\"> 1) Using BFS for Undirected Graph (do not have a direction)"
   ]
  },
  {
   "cell_type": "code",
   "execution_count": null,
   "metadata": {},
   "outputs": [],
   "source": [
    "class Graph_5:\n",
    "    def __init__(self,edges_list):\n",
    "        self.edges = edges_list\n",
    "        self.graph_dict = {}\n",
    "\n",
    "        # Undirected Graph\n",
    "        for start,end in self.edges:\n",
    "            if start in self.graph_dict:\n",
    "                self.graph_dict[start].append(end)\n",
    "            if end in self.graph_dict:\n",
    "                self.graph_dict[end].append(start)\n",
    "            if start not in self.graph_dict:\n",
    "                self.graph_dict[start] = [end]\n",
    "            if end not in self.graph_dict:\n",
    "                self.graph_dict[end] = [start]\n",
    "        print(self.graph_dict)\n",
    "    \n",
    "    def bfs(self,starting_node):\n",
    "        q = [starting_node]\n",
    "        visible = [starting_node]\n",
    "        parent = {starting_node:[-1]}\n",
    "        while len(q) > 0:\n",
    "            front_node = q.pop(0)\n",
    "            for i in self.graph_dict[front_node]:\n",
    "                if i in visible and [i] != parent[front_node]: # condition to be checked for cycle in a graph\n",
    "                    return True\n",
    "                elif i not in visible and i not in q:\n",
    "                    visible.append(i)\n",
    "                    parent[i] = [front_node]\n",
    "                    q.append(i)\n",
    "        return False"
   ]
  },
  {
   "cell_type": "code",
   "execution_count": null,
   "metadata": {},
   "outputs": [],
   "source": [
    "if __name__ == \"__main__\":\n",
    "    edges_list = [(0,3),(3,1),(1,2),(1,4)]\n",
    "    #edges_list = [(0,1),(1,2),(1,3),(2,4),(3,4),(4,5)]\n",
    "    #edges_list = [(0,2),(2,1),(1,3),(3,4),(4,2)]\n",
    "    my_graph = Graph_5(edges_list)\n",
    "    print(my_graph.bfs(0))"
   ]
  },
  {
   "attachments": {},
   "cell_type": "markdown",
   "metadata": {},
   "source": [
    "##### <p style=\"color:red;\"> 2) Using DFS for Undirected Graph (do not have a direction)"
   ]
  },
  {
   "cell_type": "code",
   "execution_count": null,
   "metadata": {},
   "outputs": [],
   "source": [
    "class Graph_6:\n",
    "    def __init__(self,edges_list):\n",
    "        self.edges = edges_list\n",
    "        self.graph_dict = {} # {key:value} Adjacency list\n",
    "        self.parent = {}\n",
    "\n",
    "        # Undirected Graph\n",
    "        for start,end in self.edges:\n",
    "            if start in self.graph_dict:\n",
    "                self.graph_dict[start].append(end)\n",
    "            if end in self.graph_dict:\n",
    "                self.graph_dict[end].append(start)\n",
    "            if start not in self.graph_dict:\n",
    "                self.graph_dict[start] = [end]\n",
    "            if end not in self.graph_dict:\n",
    "                self.graph_dict[end] = [start]\n",
    "        print(self.graph_dict)\n",
    " \n",
    "    def dfs(self,starting_node,parent,visited = []):\n",
    "        visited.append(starting_node) # In case of set(), we have to use add(front_node)\n",
    "        for i in self.graph_dict[starting_node]:\n",
    "            if i in visited and [i] != parent[starting_node]: # condition to be checked for cycle in a graph\n",
    "                return True\n",
    "            elif i not in visited:\n",
    "                parent[i] = [starting_node]\n",
    "                cycle_detected = self.dfs(i,parent,visited) # Recursive relation\n",
    "                if cycle_detected == True:\n",
    "                    return True\n",
    "        return False"
   ]
  },
  {
   "cell_type": "code",
   "execution_count": null,
   "metadata": {},
   "outputs": [],
   "source": [
    "if __name__ == \"__main__\":\n",
    "    #edges_list = [(0,3),(3,1),(1,2),(1,4)]              # A-Cyclic\n",
    "    #edges_list = [(0,1),(1,2),(1,3),(2,4),(3,4),(4,5)]  # Cyclic\n",
    "    edges_list = [(0,2),(2,1),(1,3),(3,4),(4,2)]        # Cyclic\n",
    "    my_graph = Graph_6(edges_list)\n",
    "    print(my_graph.dfs(0,{0:[-1]}))"
   ]
  },
  {
   "attachments": {},
   "cell_type": "markdown",
   "metadata": {},
   "source": [
    "### <p style=\"color:blue;\"> Toplogical Sort\n",
    "**Topological sorting of a DAG (Directed Acyclic Graph) is a linear ordering of vertices such that for every directed edge from vertex \"u\" to vertex \"v\", vertex \"u\" comes before \"v\" in the ordering. Topological sorting for a graph is not possible if the graph is not DAG**\n",
    "##### <p style=\"color:red;\"> 1) Using DFS"
   ]
  },
  {
   "cell_type": "code",
   "execution_count": null,
   "metadata": {},
   "outputs": [],
   "source": [
    "class Graph_7:\n",
    "    def __init__(self,edges_list):\n",
    "        self.edges = edges_list\n",
    "        self.graph_dict = {} # {key:value} Adjacency list\n",
    "\n",
    "        # Directed Graph\n",
    "        for start,end in self.edges:\n",
    "            if start in self.graph_dict:\n",
    "                self.graph_dict[start].append(end)\n",
    "            else:\n",
    "                self.graph_dict[start] = [end]\n",
    "        print(self.graph_dict) \n",
    "    \n",
    "    def dfs(self,started_node,visited=[],stack=[]):\n",
    "        visited.append(started_node)\n",
    "        if started_node in self.graph_dict:\n",
    "            for i in self.graph_dict[started_node]:\n",
    "                if i not in visited:\n",
    "                    self.dfs(i,visited,stack)\n",
    "        else: # Base case\n",
    "            stack.append(started_node)\n",
    "            return stack\n",
    "        \n",
    "        stack.append(started_node)\n",
    "        return stack"
   ]
  },
  {
   "cell_type": "code",
   "execution_count": null,
   "metadata": {},
   "outputs": [],
   "source": [
    "if __name__ == \"__main__\":\n",
    "    #edges_list = [(0,3),(3,1),(1,2),(1,4)]                          # A-Cyclic\n",
    "    edges_list = [(1,2),(1,3),(2,4),(3,4),(4,5),(4,6),(5,6)]         # A-Cyclic\n",
    "    my_graph = Graph_7(edges_list)\n",
    "    print(my_graph.dfs(1))"
   ]
  },
  {
   "attachments": {},
   "cell_type": "markdown",
   "metadata": {},
   "source": [
    "### <p style=\"color:blue;\"> Shortest Path in Undirected Graph (using BFS)"
   ]
  },
  {
   "cell_type": "code",
   "execution_count": null,
   "metadata": {},
   "outputs": [],
   "source": [
    "class Graph_8:\n",
    "    def __init__(self,edges_list):\n",
    "        self.edges = edges_list\n",
    "        self.graph_dict = {}\n",
    "\n",
    "        # Undirected Graph\n",
    "        for start,end in self.edges:\n",
    "            if start in self.graph_dict:\n",
    "                self.graph_dict[start].append(end)\n",
    "            if start not in self.graph_dict:\n",
    "                self.graph_dict[start] = [end]\n",
    "            if end in self.graph_dict:\n",
    "                self.graph_dict[end].append(start)\n",
    "            if end not in self.graph_dict:\n",
    "                self.graph_dict[end] = [start]\n",
    "        print(self.graph_dict) \n",
    "\n",
    "    def bfs(self,started_node):\n",
    "        q = [started_node]\n",
    "        visited = [started_node]\n",
    "        parent = {started_node:-1} # {child:parent}\n",
    "        while len(q) > 0:\n",
    "            front_node = q.pop(0)\n",
    "            for i in self.graph_dict[front_node]:\n",
    "                if i not in visited and i not in q:\n",
    "                    if i != parent[front_node]:\n",
    "                        parent[i] = front_node\n",
    "                        visited.append(i)\n",
    "                        q.append(i)\n",
    "        return parent # we will get to know the parents of each node {child:parent}\n",
    "    \n",
    "    def shortest_path(self,start,end):\n",
    "        parent_dict = self.bfs(start)\n",
    "        path = [end]\n",
    "        while parent_dict[end] != start: # Backtracking\n",
    "            end = parent_dict[end]\n",
    "            path.append(end)\n",
    "        path.append(parent_dict[end]) # Add the start element\n",
    "        path.reverse() # reverse the list\n",
    "        return path"
   ]
  },
  {
   "cell_type": "code",
   "execution_count": null,
   "metadata": {},
   "outputs": [],
   "source": [
    "if __name__ == \"__main__\":\n",
    "    edges_list = [(1,2),(2,5),(5,8),(1,3),(3,8),(1,4),(4,6),(6,7),(7,8)]  \n",
    "    my_graph = Graph_8(edges_list)\n",
    "    print(my_graph.bfs(1))\n",
    "    print(my_graph.shortest_path(1,8))"
   ]
  },
  {
   "attachments": {},
   "cell_type": "markdown",
   "metadata": {},
   "source": [
    "### <p style=\"color:blue;\">Shortest Path in Directed Acyclic Weighted Graph (using DFS)"
   ]
  },
  {
   "cell_type": "code",
   "execution_count": 17,
   "metadata": {},
   "outputs": [],
   "source": [
    "class Graph_9:\n",
    "    def __init__(self,edges_list):\n",
    "        self.edges = edges_list\n",
    "        self.graph_dict = {} # {key:value} Adjacency list\n",
    "        self.graph_dict_with_W = {} # {key:value} Adjacency list with weights\n",
    "\n",
    "        # Directed Graph\n",
    "        for start,end,weight in self.edges:\n",
    "            if start in self.graph_dict:\n",
    "                self.graph_dict_with_W[start].append([end,weight])\n",
    "                self.graph_dict[start].append(end)\n",
    "            else:\n",
    "                self.graph_dict_with_W[start] = [[end,weight]]\n",
    "                self.graph_dict[start] = [end]\n",
    "    \n",
    "    def dfs(self,started_node,visited=[],stack=[]):\n",
    "        visited.append(started_node)\n",
    "        if started_node in self.graph_dict:\n",
    "            for i in self.graph_dict[started_node]:\n",
    "                if i not in visited:\n",
    "                    self.dfs(i,visited,stack)\n",
    "        else:  # Base case\n",
    "            stack.append(started_node)\n",
    "            return stack\n",
    "        stack.append(started_node)\n",
    "        return stack\n",
    "    \n",
    "    def shortest_path(self,start,max_int):\n",
    "        topologic_stack = self.dfs(0,visited=[],stack=[])\n",
    "        dist = len(topologic_stack)*[max_int] # Distances of each node from start node\n",
    "        dist[start] = 0 # Distances of start node from start node\n",
    "        top = topologic_stack.pop(len(topologic_stack)-1) # pop last element from stack \n",
    "        while len(topologic_stack) > 0:\n",
    "            if dist[top] == max_int:\n",
    "                top = topologic_stack.pop(len(topologic_stack)-1) # pop last element from stack\n",
    "            else:\n",
    "                count = 0\n",
    "                for i in self.graph_dict[top]:\n",
    "                    if dist[i] > (self.graph_dict_with_W[top][count][1] + dist[top]):\n",
    "                        dist[i] = self.graph_dict_with_W[top][count][1] + dist[top]\n",
    "                        count = count + 1\n",
    "                    else:\n",
    "                        pass\n",
    "                top = topologic_stack.pop(len(topologic_stack)-1) # pop last element from stack\n",
    "        return dist"
   ]
  },
  {
   "cell_type": "code",
   "execution_count": 18,
   "metadata": {},
   "outputs": [
    {
     "name": "stdout",
     "output_type": "stream",
     "text": [
      "[9223372036854775807, 0, 2, 6, 5, 3]\n"
     ]
    }
   ],
   "source": [
    "if __name__ == \"__main__\":\n",
    "    import sys\n",
    "    max_int = sys.maxsize # maxint constant\n",
    "    #---------------------------------(first_node,second_node,weight)-----------------------------------#\n",
    "    edges_list = [(0,1,5),(0,2,3),(1,2,2),(1,3,6),(2,3,7),(2,4,4),(2,5,2),(3,4,-1),(4,5,-2)]   # A-Cyclic\n",
    "    my_graph = Graph_9(edges_list)\n",
    "    print(my_graph.shortest_path(1,max_int))"
   ]
  },
  {
   "attachments": {},
   "cell_type": "markdown",
   "metadata": {},
   "source": [
    "###  <p style=\"color:blue;\"> Directed Graph (Example)"
   ]
  },
  {
   "attachments": {},
   "cell_type": "markdown",
   "metadata": {},
   "source": [
    "![](flight_graph.png)"
   ]
  },
  {
   "cell_type": "code",
   "execution_count": 19,
   "metadata": {},
   "outputs": [],
   "source": [
    "class Graph_10:\n",
    "    def __init__(self,edges_list):\n",
    "        self.edges = edges_list\n",
    "        self.graph_dict = {}  # {key:value} Adjacency list\n",
    "        # Create a adjacency dictonary from route list\n",
    "        for start,end in self.edges:\n",
    "            if start in self.graph_dict:\n",
    "                self.graph_dict[start].append(end)\n",
    "            else:\n",
    "                self.graph_dict[start] = [end]\n",
    "\n",
    "    def get_path(self,start,end,path = []):\n",
    "        path = path + [start]\n",
    "        # check base condition/case\n",
    "        if start == end:\n",
    "            return [path]\n",
    "        if start not in self.graph_dict.keys(): # if start has no starting flights \n",
    "            return []\n",
    "        paths = []\n",
    "        for node in self.graph_dict[start]:\n",
    "            if node not in path:\n",
    "                new_paths = self.get_path(node,end,path) # Resursive relation\n",
    "                for _ in new_paths:\n",
    "                    paths.append(_)\n",
    "        return paths\n",
    "    \n",
    "    def find_shortest_path(self,start,end,path = []): # based on min no of stops \n",
    "        path = path + [start]\n",
    "        # check base condition/case\n",
    "        if start == end:\n",
    "            return path\n",
    "        if start not in self.graph_dict.keys(): # if start has no starting flights \n",
    "            return []\n",
    "        shortest_path = []\n",
    "        for node in self.graph_dict[start]:\n",
    "            if node not in path:\n",
    "                sp = self.find_shortest_path(node,end,path) # Resursive relation\n",
    "                if len(sp) > 0: # If sp is not empty (i.e., it is a valid path)\n",
    "                    if len(shortest_path) == 0 or len(sp) < len(shortest_path):\n",
    "                        shortest_path = sp                        \n",
    "        return shortest_path"
   ]
  },
  {
   "cell_type": "code",
   "execution_count": 20,
   "metadata": {},
   "outputs": [
    {
     "name": "stdout",
     "output_type": "stream",
     "text": [
      "[['mumbai', 'paris', 'dubai'], ['mumbai', 'dubai']] \n",
      "\n",
      "['mumbai', 'dubai']\n"
     ]
    }
   ],
   "source": [
    "if __name__ == \"__main__\":\n",
    "    route_list = [(\"mumbai\",\"paris\"),(\"mumbai\",\"dubai\"),(\"paris\",\"dubai\"),(\"paris\",\"new york\"),(\"dubai\",\"new york\"),(\"new york\",\"toronto\")]\n",
    "    Journey_graph = Graph_10(route_list)\n",
    "    \n",
    "    print(Journey_graph.get_path(\"mumbai\",\"dubai\"),\"\\n\")\n",
    "    print(Journey_graph.find_shortest_path('mumbai','dubai'))"
   ]
  },
  {
   "attachments": {},
   "cell_type": "markdown",
   "metadata": {},
   "source": [
    "### <p style=\"color:blue;\"> Dijkstra's Algorithm for Shortest Path in Undirected Graph\n",
    "**This Algorithm only works for +ve weights**"
   ]
  },
  {
   "attachments": {},
   "cell_type": "markdown",
   "metadata": {},
   "source": [
    "**Problem 1**\\\n",
    "![](Dijkstra_shortest_path_1.jpg)\n",
    "\n",
    "**Problem 2**\\\n",
    "![](Dijkstra_shortest_path_2.jpg)"
   ]
  },
  {
   "cell_type": "code",
   "execution_count": 96,
   "metadata": {},
   "outputs": [],
   "source": [
    "class Graph_11:\n",
    "    def __init__(self,edges_list):\n",
    "        self.edges = edges_list\n",
    "        self.graph_dict = {}  # {key:value} Adjacency list\n",
    "        self.graph_dict_with_W = {}  # {key:value} Adjacency list with weights\n",
    "        # Undirected Graph\n",
    "        for start,end,weight in self.edges:\n",
    "            if start in self.graph_dict:\n",
    "                self.graph_dict[start].append(end)\n",
    "                self.graph_dict_with_W[start].append([end,weight])\n",
    "            if start not in self.graph_dict:\n",
    "                self.graph_dict[start] = [end]\n",
    "                self.graph_dict_with_W[start] = [[end,weight]]\n",
    "            if end in self.graph_dict:\n",
    "                self.graph_dict[end].append(start)\n",
    "                self.graph_dict_with_W[end].append([start,weight])                \n",
    "            if end not in self.graph_dict:\n",
    "                self.graph_dict[end] = [start]\n",
    "                self.graph_dict_with_W[end] = [[start,weight]] \n",
    "\n",
    "    def shortest_path(self,started_node,node_dict=set()):\n",
    "        dist = len(self.graph_dict.keys())*[max_int]  # Distances of each node from start node\n",
    "        dist[started_node] = 0 # Distances of start node from start node\n",
    "        top = (0,started_node) # (minimum distance,node) \n",
    "        while True:\n",
    "            count = 0\n",
    "            for i in self.graph_dict[top[1]]:\n",
    "                if dist[i] > (self.graph_dict_with_W[top[1]][count][1] + dist[top[1]]):\n",
    "                    dist[i] = self.graph_dict_with_W[top[1]][count][1] + dist[top[1]]\n",
    "                    for distance,node in node_dict:\n",
    "                        if node == i:\n",
    "                            node_dict.remove((distance,node))\n",
    "                            break\n",
    "                    node_dict.add((dist[i],i)) # {(distance,node)}\n",
    "                    count = count + 1\n",
    "                else:\n",
    "                    count = count + 1\n",
    "            if len(node_dict) == 0: # To break from while loop\n",
    "                break\n",
    "            top = min(node_dict) # (minimum distance,node) \n",
    "            node_dict.remove(min(node_dict)) # {(distance,node)} remove last element from stack\n",
    "        return dist"
   ]
  },
  {
   "cell_type": "code",
   "execution_count": 97,
   "metadata": {},
   "outputs": [
    {
     "name": "stdout",
     "output_type": "stream",
     "text": [
      "shortest distance from node 0 : [0, 4, 1, 2, 5]\n"
     ]
    }
   ],
   "source": [
    "if __name__ == \"__main__\":\n",
    "    import sys\n",
    "    max_int = sys.maxsize # maxint constant\n",
    "    #---------------------------------(first_node,second_node,weight)-----------------------------------#\n",
    "    #edges_list = [(0,1,5),(0,2,8),(1,3,2),(1,2,9),(2,3,6)]   # A-Cyclic\n",
    "    edges_list = [(0,1,7),(0,2,1),(0,3,2),(1,2,3),(1,3,5),(1,4,1),(3,4,7)]   # A-Cyclic\n",
    "    my_graph = Graph_11(edges_list)\n",
    "    starting_node = 0\n",
    "    print(\"shortest distance from node\",starting_node,\":\",my_graph.shortest_path(starting_node))"
   ]
  },
  {
   "cell_type": "code",
   "execution_count": null,
   "metadata": {},
   "outputs": [],
   "source": []
  }
 ],
 "metadata": {
  "kernelspec": {
   "display_name": "Python 3",
   "language": "python",
   "name": "python3"
  },
  "language_info": {
   "codemirror_mode": {
    "name": "ipython",
    "version": 3
   },
   "file_extension": ".py",
   "mimetype": "text/x-python",
   "name": "python",
   "nbconvert_exporter": "python",
   "pygments_lexer": "ipython3",
   "version": "3.8.10"
  },
  "orig_nbformat": 4
 },
 "nbformat": 4,
 "nbformat_minor": 2
}
