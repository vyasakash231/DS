{
 "cells": [
  {
   "attachments": {},
   "cell_type": "markdown",
   "metadata": {},
   "source": [
    "## What is Recursion? \n",
    "* The process in which a function calls itself directly or indirectly is called recursion and the corresponding function is called a recursive function. Using a recursive algorithm, certain problems can be solved quite easily.\n",
    "* A recursive function solves a particular problem by calling a copy of itself and solving smaller subproblems of the original problems. \n",
    "* It is essential to know that we should provide a certain case (called base case) in order to terminate this recursion process. \n",
    "* Recursion is an amazing technique with the help of which we can reduce the length of our code and make it easier to read and write.\n",
    "* A task that can be defined with its similar subtask, recursion is one of the best solutions for it. For example; The Factorial of a number."
   ]
  },
  {
   "attachments": {},
   "cell_type": "markdown",
   "metadata": {},
   "source": [
    "#### Properties of Recursion:\n",
    "* Performing the same operations multiple times with different inputs.\n",
    "* In every step, we try smaller inputs to make the problem smaller.\n",
    "* Base condition is needed to stop the recursion otherwise infinite loop will occur."
   ]
  },
  {
   "attachments": {},
   "cell_type": "markdown",
   "metadata": {},
   "source": [
    "## A Mathematical Interpretation\n",
    "* Let us consider a problem that a programmer has to determine the sum of first n natural numbers, there are several ways of doing that but the simplest approach is simply to add the numbers starting from 1 to n. So the function simply looks like this,\n",
    "* ***approach(1) – Simply adding one by one*** <br>\n",
    "$f (n) = 1 + 2 + 3 +……..+ n$\n",
    "\n",
    "* ***approach(2) – Recursive adding*** <br>\n",
    "$f(n) = 1, n=1$ <br>\n",
    "$f(n) = n + f(n-1), n>1$\n",
    "\n",
    "* There is a simple difference between the approach (1) and approach(2) and that is in approach(2) the function “ f( ) ” itself is being called inside the function, so this phenomenon is named recursion, and the function containing recursion is called recursive function,"
   ]
  },
  {
   "attachments": {},
   "cell_type": "markdown",
   "metadata": {},
   "source": [
    "### Difference btw Recursion and Iteration"
   ]
  },
  {
   "attachments": {},
   "cell_type": "markdown",
   "metadata": {},
   "source": [
    "![](diff_Rec_Iter.png)"
   ]
  },
  {
   "attachments": {},
   "cell_type": "markdown",
   "metadata": {},
   "source": [
    "#### Ex1: let's see an example of factorial of (n) using recursion : function(n) = n * function(n-1)\n",
    "* Here for simplicity we can write **function(n-1)** as a smaller_problem and **function(n)** as bigger_problem"
   ]
  },
  {
   "attachments": {},
   "cell_type": "markdown",
   "metadata": {},
   "source": [
    "![](factorial_recursion.jpg)"
   ]
  },
  {
   "cell_type": "code",
   "execution_count": 3,
   "metadata": {},
   "outputs": [],
   "source": [
    "def factorial_func(n):\n",
    "    # check base condition/case\n",
    "    if n == 0:\n",
    "        return 1\n",
    "    \n",
    "    # Resursive relation\n",
    "    smaller_problem = factorial_func(n-1)\n",
    "    bigger_problem = n*smaller_problem\n",
    "\n",
    "    return bigger_problem"
   ]
  },
  {
   "cell_type": "code",
   "execution_count": 4,
   "metadata": {},
   "outputs": [
    {
     "name": "stdout",
     "output_type": "stream",
     "text": [
      "24\n"
     ]
    }
   ],
   "source": [
    "ans_1 = factorial_func(4)\n",
    "print(ans_1)"
   ]
  },
  {
   "attachments": {},
   "cell_type": "markdown",
   "metadata": {},
   "source": [
    "#### Ex2: let's find 2^n using recursion : function(n) = n * function(n-1)"
   ]
  },
  {
   "cell_type": "code",
   "execution_count": 8,
   "metadata": {},
   "outputs": [],
   "source": [
    "def func_pow_2(n):\n",
    "    # check base condition/case\n",
    "    if n == 0:\n",
    "        return 1\n",
    "\n",
    "    # Resursive relation\n",
    "    smaller_problem = func_pow_2(n-1)\n",
    "    bigger_problem = 2*smaller_problem \n",
    "\n",
    "    return bigger_problem"
   ]
  },
  {
   "cell_type": "code",
   "execution_count": 10,
   "metadata": {},
   "outputs": [
    {
     "name": "stdout",
     "output_type": "stream",
     "text": [
      "64\n"
     ]
    }
   ],
   "source": [
    "ans_2 = func_pow_2(6)\n",
    "print(ans_2)"
   ]
  },
  {
   "attachments": {},
   "cell_type": "markdown",
   "metadata": {},
   "source": [
    "#### Ex3: Print the no series in reverse till input num -> Tail Recursion "
   ]
  },
  {
   "cell_type": "code",
   "execution_count": 1,
   "metadata": {},
   "outputs": [],
   "source": [
    "def func_3(num):\n",
    "    # check base condition/case\n",
    "    if num == 0:\n",
    "        return  # will return nothing to calling function but will stop the execution\n",
    "    \n",
    "    print(num)\n",
    "\n",
    "    # Resursive relation\n",
    "    func_3(num-1) "
   ]
  },
  {
   "cell_type": "code",
   "execution_count": 2,
   "metadata": {},
   "outputs": [
    {
     "name": "stdout",
     "output_type": "stream",
     "text": [
      "3\n",
      "2\n",
      "1\n"
     ]
    }
   ],
   "source": [
    "func_3(3)"
   ]
  },
  {
   "attachments": {},
   "cell_type": "markdown",
   "metadata": {},
   "source": [
    "#### Ex4: Print the no series till input num -> Head Recursion "
   ]
  },
  {
   "cell_type": "code",
   "execution_count": 3,
   "metadata": {},
   "outputs": [],
   "source": [
    "def func_4(num):\n",
    "    # check base condition/case\n",
    "    if num == 0:\n",
    "        return  # will return nothing to calling function but will stop the execution\n",
    "\n",
    "    # Resursive relation\n",
    "    func_4(num-1) \n",
    "\n",
    "    print(num)"
   ]
  },
  {
   "cell_type": "code",
   "execution_count": 4,
   "metadata": {},
   "outputs": [
    {
     "name": "stdout",
     "output_type": "stream",
     "text": [
      "1\n",
      "2\n",
      "3\n"
     ]
    }
   ],
   "source": [
    "func_4(3)"
   ]
  },
  {
   "attachments": {},
   "cell_type": "markdown",
   "metadata": {},
   "source": [
    "#### Ex5: Going home from current_lacation on a straight road (taking a small step each time towards it)"
   ]
  },
  {
   "cell_type": "code",
   "execution_count": 3,
   "metadata": {},
   "outputs": [],
   "source": [
    "def func_5(current_location,home):\n",
    "    print('current_distance from home is:',home - current_location)\n",
    "\n",
    "    # check base condition/case\n",
    "    if home - current_location == 0: # we can also have a base case as, if current_location == home:\n",
    "        return\n",
    "    \n",
    "    # Resursive relation\n",
    "    step_size = 1\n",
    "    current_location = current_location + step_size\n",
    "    small_problem = func_5(current_location,home)"
   ]
  },
  {
   "cell_type": "code",
   "execution_count": 4,
   "metadata": {},
   "outputs": [
    {
     "name": "stdout",
     "output_type": "stream",
     "text": [
      "current_distance from home is: 7\n",
      "current_distance from home is: 6\n",
      "current_distance from home is: 5\n",
      "current_distance from home is: 4\n",
      "current_distance from home is: 3\n",
      "current_distance from home is: 2\n",
      "current_distance from home is: 1\n",
      "current_distance from home is: 0\n"
     ]
    }
   ],
   "source": [
    "func_5(5,12)"
   ]
  },
  {
   "attachments": {},
   "cell_type": "markdown",
   "metadata": {},
   "source": [
    "![](fibo_recursion.jpg)"
   ]
  },
  {
   "attachments": {},
   "cell_type": "markdown",
   "metadata": {},
   "source": [
    "#### Ex6: Find the nth term in Fibonacci series: (0,1,1,2,3,5,8,13,21,34)"
   ]
  },
  {
   "cell_type": "code",
   "execution_count": 7,
   "metadata": {},
   "outputs": [],
   "source": [
    "def func_6(n):\n",
    "    # check base condition/case\n",
    "    if n == 0:\n",
    "        return 0\n",
    "    if n == 1:\n",
    "        return 1\n",
    "    \n",
    "    # Resursive relation\n",
    "    small_problem_1 = func_6(n-1)\n",
    "    small_problem_2 = func_6(n-2)\n",
    "\n",
    "    bigger_problem = small_problem_1 + small_problem_2\n",
    "\n",
    "    return bigger_problem"
   ]
  },
  {
   "cell_type": "code",
   "execution_count": 8,
   "metadata": {},
   "outputs": [
    {
     "name": "stdout",
     "output_type": "stream",
     "text": [
      "32\n"
     ]
    }
   ],
   "source": [
    "ans = func_6(6)\n",
    "print(ans)"
   ]
  },
  {
   "attachments": {},
   "cell_type": "markdown",
   "metadata": {},
   "source": [
    "#### Ex7: There are n stairs, a person standing at the bottom wants to reach the top. The person can climb either 1 stair or 2 stairs at a time. Count the number of ways, the person can reach the top."
   ]
  },
  {
   "attachments": {},
   "cell_type": "markdown",
   "metadata": {},
   "source": [
    "![](stair_problem.png)"
   ]
  },
  {
   "attachments": {},
   "cell_type": "markdown",
   "metadata": {},
   "source": [
    "* **Approach 1:** The person can reach nth stair from either (n-1)th stair or from (n-2)th stair. Hence, for each stair n, we try to find out the number of ways to reach (n-1)th stair and (n-2)th stair and add them to give the answer for the nth stair. Therefore the expression for such an approach comes out to be : "
   ]
  },
  {
   "cell_type": "code",
   "execution_count": 30,
   "metadata": {},
   "outputs": [],
   "source": [
    "# n = nth stair to reach\n",
    "def func_7a(n):\n",
    "    if n == 0: # if nth stair is 0 then there is only one way to reach there, i.e, to stay there, so return 1\n",
    "        return 1\n",
    "    if n < 0: # if nth stair is less then 0 there is no way to reach there, so return 0\n",
    "        return 0\n",
    " \n",
    "    # To reach nth stair you can either come from (n-1)th stair or (n-2)th stair, so the possible combination is the sum of it\n",
    "    ways_1 = func_7a(n-1) # no of ways a person can reach (n-1)th stair\n",
    "    ways_2 = func_7a(n-2) # no of ways a person can reach (n-2)th stair\n",
    "\n",
    "    ways = ways_1 + ways_2 # no of ways a person can reach (n)th stair\n",
    "\n",
    "    return ways"
   ]
  },
  {
   "cell_type": "code",
   "execution_count": 31,
   "metadata": {},
   "outputs": [
    {
     "name": "stdout",
     "output_type": "stream",
     "text": [
      "8\n"
     ]
    }
   ],
   "source": [
    "# According to the image to reach 3rd stair, there are 3 possible ways\n",
    "ans = func_7a(5)\n",
    "print(ans)"
   ]
  },
  {
   "attachments": {},
   "cell_type": "markdown",
   "metadata": {},
   "source": [
    "* **Approach 2:** The person from current_stair can reach to either (current_stair+1)th stair or (current_stair+2)th stair. Hence, for each stair n, we try to find out the number of ways to reach (current_stair+1)th stair and (current_stair-2)th stair and add them to give the answer for the nth stair. Therefore the expression for such an approach comes out to be : "
   ]
  },
  {
   "cell_type": "code",
   "execution_count": 28,
   "metadata": {},
   "outputs": [],
   "source": [
    "# n = nth stair to reach\n",
    "def func_7b(n, current_step):\n",
    "    if current_step == n: # if current stair is the nth stair then there is only one way to reach there, i.e, to stay there, so return 1\n",
    "        return 1\n",
    "    if current_step > n: # if current stair is greater then nth stair then there is no way to reach there, so return 0\n",
    "        return 0\n",
    " \n",
    "    # To reach nth stair you can either come from (current_stair+1)th stair or (current_stair+2)th stair, so the possible combination is the sum of it\n",
    "    ways_1 = func_7b(n, current_step+1) # no of ways a person can reach (n-1)th stair\n",
    "    ways_2 = func_7b(n, current_step+2) # no of ways a person can reach (n-2)th stair\n",
    "\n",
    "    ways = ways_1 + ways_2 # no of ways a person can reach (n)th stair\n",
    "\n",
    "    return ways"
   ]
  },
  {
   "cell_type": "code",
   "execution_count": 32,
   "metadata": {},
   "outputs": [
    {
     "name": "stdout",
     "output_type": "stream",
     "text": [
      "8\n"
     ]
    }
   ],
   "source": [
    "# According to the image to reach 3rd stair, there are 3 possible ways\n",
    "ans = func_7b(5,0)\n",
    "print(ans)"
   ]
  },
  {
   "cell_type": "code",
   "execution_count": null,
   "metadata": {},
   "outputs": [],
   "source": []
  }
 ],
 "metadata": {
  "kernelspec": {
   "display_name": "Python 3",
   "language": "python",
   "name": "python3"
  },
  "language_info": {
   "codemirror_mode": {
    "name": "ipython",
    "version": 3
   },
   "file_extension": ".py",
   "mimetype": "text/x-python",
   "name": "python",
   "nbconvert_exporter": "python",
   "pygments_lexer": "ipython3",
   "version": "3.8.10"
  },
  "orig_nbformat": 4,
  "vscode": {
   "interpreter": {
    "hash": "916dbcbb3f70747c44a77c7bcd40155683ae19c65e1c03b4aa3499c5328201f1"
   }
  }
 },
 "nbformat": 4,
 "nbformat_minor": 2
}
