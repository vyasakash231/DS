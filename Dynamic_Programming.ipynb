{
 "cells": [
  {
   "attachments": {},
   "cell_type": "markdown",
   "metadata": {},
   "source": [
    "### Ex6: Find the nth term in Fibonacci series: (0,1,1,2,3,5,8,13,21,34)"
   ]
  },
  {
   "attachments": {},
   "cell_type": "markdown",
   "metadata": {},
   "source": [
    "##### Approach1: Top-Down Approach (Recursion + Memoization)"
   ]
  },
  {
   "attachments": {},
   "cell_type": "markdown",
   "metadata": {},
   "source": [
    "![](fibo_DP.jpg)"
   ]
  },
  {
   "cell_type": "code",
   "execution_count": 2,
   "metadata": {},
   "outputs": [],
   "source": [
    "def fibo(n,dp):\n",
    "    # check base condition/case\n",
    "    if n == 0:\n",
    "        return 0\n",
    "    if n == 1:\n",
    "        return 1\n",
    "\n",
    "    ## STEP-3\n",
    "    if dp[n] != -1:\n",
    "        return dp[n]\n",
    "\n",
    "    ## STEP-2\n",
    "    dp[n] = fibo(n-1,dp) + fibo(n-2,dp) # Replacing exesting values in dp array\n",
    "\n",
    "    return dp[n]"
   ]
  },
  {
   "cell_type": "code",
   "execution_count": 3,
   "metadata": {},
   "outputs": [
    {
     "name": "stdout",
     "output_type": "stream",
     "text": [
      "5\n",
      "[-1, -1, 1, 2, 3, 5]\n"
     ]
    }
   ],
   "source": [
    "n = 5\n",
    "\n",
    "## STEP-1\n",
    "dp = [-1]*(n+1) # Creating empty array\n",
    "\n",
    "value = fibo(n,dp)\n",
    "\n",
    "print(value)\n",
    "print(dp)"
   ]
  },
  {
   "attachments": {},
   "cell_type": "markdown",
   "metadata": {},
   "source": [
    "##### Approach2: Tabulation Approach/Bottom-Up Approach"
   ]
  },
  {
   "cell_type": "code",
   "execution_count": 4,
   "metadata": {},
   "outputs": [
    {
     "name": "stdout",
     "output_type": "stream",
     "text": [
      "5\n"
     ]
    }
   ],
   "source": [
    "# Exception handling is done because at n = 0 this will give an error \n",
    "try:\n",
    "    n = 5\n",
    "    fibo = [0]*(n+1) # Creating empty array\n",
    "    fibo[1] = 1 # set base condition/case\n",
    "    for i in range(2,n+1):\n",
    "        fibo[i] = fibo[i-1] + fibo[i-2]\n",
    "except:\n",
    "    pass\n",
    "\n",
    "print(fibo[n])"
   ]
  },
  {
   "attachments": {},
   "cell_type": "markdown",
   "metadata": {},
   "source": [
    "### Solving Previous Ex7 from Recursion_Series Using DP"
   ]
  },
  {
   "attachments": {},
   "cell_type": "markdown",
   "metadata": {},
   "source": [
    "##### Approach-1"
   ]
  },
  {
   "cell_type": "code",
   "execution_count": 204,
   "metadata": {},
   "outputs": [],
   "source": [
    "def func_7a(n,dp):\n",
    "    # Base Case\n",
    "    if n == 0: \n",
    "        return 1\n",
    "    if n < 0:\n",
    "        return 0\n",
    "        \n",
    "    ## STEP-3\n",
    "    if dp[n] != -1:\n",
    "        return dp[n]\n",
    "        \n",
    "    ## STEP-2\n",
    "    dp[n] = func_7a(n-1,dp) + func_7a(n-2,dp)\n",
    "    return dp[n]"
   ]
  },
  {
   "cell_type": "code",
   "execution_count": 212,
   "metadata": {},
   "outputs": [
    {
     "name": "stdout",
     "output_type": "stream",
     "text": [
      "5\n"
     ]
    }
   ],
   "source": [
    "n = 4\n",
    "\n",
    "## STEP-1\n",
    "dp = [-1]*(n+1) # Creating empty array\n",
    "\n",
    "value = func_7a(n,dp)\n",
    "print(value)"
   ]
  },
  {
   "attachments": {},
   "cell_type": "markdown",
   "metadata": {},
   "source": [
    "##### Approach-2"
   ]
  },
  {
   "cell_type": "code",
   "execution_count": 210,
   "metadata": {},
   "outputs": [],
   "source": [
    "def func_7b(n,current_stair,dp):\n",
    "    # Base Case\n",
    "    if current_stair == n: \n",
    "        return 1\n",
    "    if current_stair > n:\n",
    "        return 0\n",
    "    \n",
    "    ## STEP-3\n",
    "    if dp[current_stair] != -1:\n",
    "        return(dp[current_stair])\n",
    "    \n",
    "    ## STEP-2\n",
    "    dp[current_stair] = func_7b(n,current_stair+1,dp) + func_7b(n,current_stair+2,dp)\n",
    "    return(dp[current_stair])"
   ]
  },
  {
   "cell_type": "code",
   "execution_count": 213,
   "metadata": {},
   "outputs": [
    {
     "name": "stdout",
     "output_type": "stream",
     "text": [
      "5\n"
     ]
    }
   ],
   "source": [
    "n = 4\n",
    "\n",
    "## STEP-1\n",
    "dp = [-1]*(n+1) # Creating empty array\n",
    "\n",
    "value = func_7b(n,0,dp)\n",
    "print(value)"
   ]
  },
  {
   "attachments": {},
   "cell_type": "markdown",
   "metadata": {},
   "source": [
    "### Ex1: You are given an integer array cost where cost[i] is the cost of ith step on a staircase. once you pay the cost, you can either climb one or two steps. you can either start from the step with index 0, or the step with index 1. Return the minimum cost to reach the top of the floor & top floor has no cost."
   ]
  },
  {
   "attachments": {},
   "cell_type": "markdown",
   "metadata": {},
   "source": [
    "##### Approach1: using Recursion only"
   ]
  },
  {
   "cell_type": "code",
   "execution_count": 2,
   "metadata": {},
   "outputs": [],
   "source": [
    "def solve(cost,n):\n",
    "    # Base Case (we can start from 1st or 2nd stair)\n",
    "    if n == 0: # if you ar starting from 1st stair then return the cost of 1st stair\n",
    "        return cost[0]\n",
    "    if n == 1: # if you ar starting from 2st stair then return the cost of 2st stair\n",
    "        return cost[1]\n",
    "\n",
    "    ans1 = min(solve(cost,n-1),solve(cost,n-2)) + cost[n]\n",
    "    return ans1"
   ]
  },
  {
   "cell_type": "code",
   "execution_count": 3,
   "metadata": {},
   "outputs": [],
   "source": [
    "def minCostClimbingStairs(cost):\n",
    "    n = len(cost)\n",
    "    ans2 = min(solve(cost,n-1),solve(cost,n-2))\n",
    "    return ans2"
   ]
  },
  {
   "cell_type": "code",
   "execution_count": 4,
   "metadata": {},
   "outputs": [
    {
     "name": "stdout",
     "output_type": "stream",
     "text": [
      "15\n"
     ]
    }
   ],
   "source": [
    "ans = minCostClimbingStairs([10,15,20])\n",
    "print(ans)"
   ]
  },
  {
   "attachments": {},
   "cell_type": "markdown",
   "metadata": {},
   "source": [
    "##### Approach2: Using Top-Down DP"
   ]
  },
  {
   "cell_type": "code",
   "execution_count": 8,
   "metadata": {},
   "outputs": [],
   "source": [
    "def solve(cost,n,dp):\n",
    "    # Base Case (we can start from 1st or 2nd stair)\n",
    "    if n == 0: # if you ar starting from 1st stair then return the cost of 1st stair\n",
    "        return cost[0]\n",
    "    if n == 1: # if you ar starting from 2st stair then return the cost of 2st stair\n",
    "        return cost[1]\n",
    "\n",
    "    ## STEP-3\n",
    "    if dp[n] != -1:\n",
    "        return dp[n]\n",
    "    \n",
    "    ## STEP-2\n",
    "    dp[n] = min(solve(cost,n-1,dp),solve(cost,n-2,dp)) + cost[n]\n",
    "    return dp[n]"
   ]
  },
  {
   "cell_type": "code",
   "execution_count": 9,
   "metadata": {},
   "outputs": [],
   "source": [
    "def minCostClimbingStairs(cost):\n",
    "    n = len(cost)\n",
    "\n",
    "    # STEP-1\n",
    "    dp = [-1]*(n+1)\n",
    "    \n",
    "    ans2 = min(solve(cost,n-1,dp),solve(cost,n-2,dp))\n",
    "    return ans2"
   ]
  },
  {
   "cell_type": "code",
   "execution_count": 10,
   "metadata": {},
   "outputs": [
    {
     "name": "stdout",
     "output_type": "stream",
     "text": [
      "15\n"
     ]
    }
   ],
   "source": [
    "ans = minCostClimbingStairs([10,15,20])\n",
    "print(ans)"
   ]
  },
  {
   "attachments": {},
   "cell_type": "markdown",
   "metadata": {},
   "source": [
    "##### Approach2: Tabulatted"
   ]
  },
  {
   "cell_type": "code",
   "execution_count": 18,
   "metadata": {},
   "outputs": [],
   "source": [
    "def solve(cost,n):\n",
    "    dp = [-1]*(n+1)\n",
    "\n",
    "    dp[0] = cost[0]\n",
    "    dp[1] = cost[1]\n",
    "    \n",
    "    for i in range(2,n+1):\n",
    "        dp[n] =cost[n] + min(dp[n-1],dp[n-2])\n",
    "    \n",
    "    return dp[n]"
   ]
  },
  {
   "cell_type": "code",
   "execution_count": 19,
   "metadata": {},
   "outputs": [],
   "source": [
    "def minCostClimbingStairs(cost):\n",
    "    n = len(cost)\n",
    "    \n",
    "    ans = min(solve(cost,n-1),solve(cost,n-2))\n",
    "    return ans"
   ]
  },
  {
   "cell_type": "code",
   "execution_count": 20,
   "metadata": {},
   "outputs": [
    {
     "name": "stdout",
     "output_type": "stream",
     "text": [
      "15\n"
     ]
    }
   ],
   "source": [
    "ans = minCostClimbingStairs([10,15,20])\n",
    "print(ans)"
   ]
  },
  {
   "attachments": {},
   "cell_type": "markdown",
   "metadata": {},
   "source": [
    "### Ex2: You are given an integer 'N' denoting the length of the rod. You need to determine the maximum number of segements you can make of this rod provided that each segement should be of the length 'X', 'Y' or 'Z'."
   ]
  },
  {
   "attachments": {},
   "cell_type": "markdown",
   "metadata": {},
   "source": [
    "##### Approach1: Recursion"
   ]
  },
  {
   "cell_type": "code",
   "execution_count": 1,
   "metadata": {},
   "outputs": [],
   "source": [
    "import sys\n",
    "def solve(N,X,Y,Z):\n",
    "    if N == 0:\n",
    "        return 0\n",
    "    if N < 0:\n",
    "        return (-sys.maxsize-1)\n",
    "\n",
    "    Seg_by_X = solve(N-X,X,Y,Z) + 1 # if rod is cut in segments of X\n",
    "    Seg_by_Y = solve(N-Y,X,Y,Z) + 1 # if rod is cut in segments of Y\n",
    "    Seg_by_Z = solve(N-Z,X,Y,Z) + 1 # if rod is cut in segments of Z\n",
    "\n",
    "    return max(Seg_by_X,max(Seg_by_Y,Seg_by_Z)) # Maximum segments of size X,Y,Z"
   ]
  },
  {
   "cell_type": "code",
   "execution_count": 2,
   "metadata": {},
   "outputs": [],
   "source": [
    "def CutRodSegment(N,X,Y,Z):\n",
    "    ans = solve(N,X,Y,Z)\n",
    "    if ans < 0:\n",
    "        return 0\n",
    "    else:\n",
    "        return ans"
   ]
  },
  {
   "cell_type": "code",
   "execution_count": 3,
   "metadata": {},
   "outputs": [
    {
     "name": "stdout",
     "output_type": "stream",
     "text": [
      "2\n"
     ]
    }
   ],
   "source": [
    "ans = CutRodSegment(7,5,2,2)\n",
    "print(ans)"
   ]
  },
  {
   "cell_type": "code",
   "execution_count": null,
   "metadata": {},
   "outputs": [],
   "source": []
  }
 ],
 "metadata": {
  "kernelspec": {
   "display_name": "Python 3",
   "language": "python",
   "name": "python3"
  },
  "language_info": {
   "codemirror_mode": {
    "name": "ipython",
    "version": 3
   },
   "file_extension": ".py",
   "mimetype": "text/x-python",
   "name": "python",
   "nbconvert_exporter": "python",
   "pygments_lexer": "ipython3",
   "version": "3.8.10"
  },
  "orig_nbformat": 4,
  "vscode": {
   "interpreter": {
    "hash": "916dbcbb3f70747c44a77c7bcd40155683ae19c65e1c03b4aa3499c5328201f1"
   }
  }
 },
 "nbformat": 4,
 "nbformat_minor": 2
}
